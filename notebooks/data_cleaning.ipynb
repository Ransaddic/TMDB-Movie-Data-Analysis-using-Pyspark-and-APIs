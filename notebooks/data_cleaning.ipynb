{
 "cells": [
  {
   "cell_type": "markdown",
   "id": "b2c6283b",
   "metadata": {},
   "source": [
    "# TMDB Movies Data Cleaning\n"
   ]
  },
  {
   "cell_type": "code",
   "execution_count": 13,
   "id": "70443728",
   "metadata": {},
   "outputs": [],
   "source": [
    "# locating the Spark installation\n",
    "import findspark\n",
    "findspark.init()"
   ]
  },
  {
   "cell_type": "code",
   "execution_count": 14,
   "id": "ff4b010c",
   "metadata": {},
   "outputs": [],
   "source": [
    "# Initialize Spark session\n",
    "from pyspark.sql import SparkSession\n",
    "spark = SparkSession.builder.appName(\"MovieDataCleaning\").getOrCreate()\n"
   ]
  },
  {
   "cell_type": "code",
   "execution_count": null,
   "id": "0d9c4102",
   "metadata": {},
   "outputs": [],
   "source": [
    "def clean_movie_data(filepath):\n",
    "    # Read the parquet file into a DataFrame\n",
    "    df = spark.read.parquet(filepath)\n",
    "\n",
    "    # Drop irrelevant columns: ['adult', 'imdb_id', 'original_title', 'video', 'homepage']\n",
    "    df = df.drop(*['adult', 'imdb_id', 'original_title', 'video', 'homepage'])\n",
    "\n",
    "\n",
    "\n",
    "    return df"
   ]
  },
  {
   "cell_type": "code",
   "execution_count": 16,
   "id": "ede0c84d",
   "metadata": {},
   "outputs": [
    {
     "data": {
      "text/plain": [
       "['id',\n",
       " 'title',\n",
       " 'original_language',\n",
       " 'release_date',\n",
       " 'runtime',\n",
       " 'popularity',\n",
       " 'vote_average',\n",
       " 'vote_count',\n",
       " 'overview',\n",
       " 'genres',\n",
       " 'production_companies',\n",
       " 'belongs_to_collection',\n",
       " 'production_countries',\n",
       " 'spoken_languages',\n",
       " 'cast',\n",
       " 'crew']"
      ]
     },
     "execution_count": 16,
     "metadata": {},
     "output_type": "execute_result"
    }
   ],
   "source": [
    "df = clean_movie_data(\"../data/extracted_movies_df.parquet\")\n",
    "df.columns"
   ]
  },
  {
   "cell_type": "code",
   "execution_count": null,
   "id": "5adcf8cf",
   "metadata": {},
   "outputs": [
    {
     "name": "stdout",
     "output_type": "stream",
     "text": [
      "+--------------------+\n",
      "|              genres|\n",
      "+--------------------+\n",
      "|[{'id': 12, 'name...|\n",
      "|[{'id': 28, 'name...|\n",
      "|[{'id': 12, 'name...|\n",
      "|[{'id': 12, 'name...|\n",
      "|[{'id': 28, 'name...|\n",
      "|[{'id': 28, 'name...|\n",
      "|[{'id': 28, 'name...|\n",
      "|[{'id': 14, 'name...|\n",
      "|[{'id': 12, 'name...|\n",
      "|[{'id': 10751, 'n...|\n",
      "|[{'id': 28, 'name...|\n",
      "|[{'id': 16, 'name...|\n",
      "|[{'id': 10751, 'n...|\n",
      "|[{'id': 28, 'name...|\n",
      "|[{'id': 18, 'name...|\n",
      "|[{'id': 28, 'name...|\n",
      "|[{'id': 12, 'name...|\n",
      "|[{'id': 878, 'nam...|\n",
      "+--------------------+\n",
      "\n"
     ]
    }
   ],
   "source": []
  },
  {
   "cell_type": "code",
   "execution_count": null,
   "id": "f2146436",
   "metadata": {},
   "outputs": [],
   "source": []
  }
 ],
 "metadata": {
  "kernelspec": {
   "display_name": "base",
   "language": "python",
   "name": "python3"
  },
  "language_info": {
   "codemirror_mode": {
    "name": "ipython",
    "version": 3
   },
   "file_extension": ".py",
   "mimetype": "text/x-python",
   "name": "python",
   "nbconvert_exporter": "python",
   "pygments_lexer": "ipython3",
   "version": "3.11.5"
  }
 },
 "nbformat": 4,
 "nbformat_minor": 5
}
