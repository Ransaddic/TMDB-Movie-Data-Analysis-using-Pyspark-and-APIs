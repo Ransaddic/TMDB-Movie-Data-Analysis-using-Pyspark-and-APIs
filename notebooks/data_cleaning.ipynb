{
 "cells": [
  {
   "cell_type": "markdown",
   "id": "b2c6283b",
   "metadata": {},
   "source": [
    "# TMDB Movies Data Cleaning\n"
   ]
  },
  {
   "cell_type": "code",
   "execution_count": 17,
   "id": "70443728",
   "metadata": {},
   "outputs": [],
   "source": [
    "# locating the Spark installation\n",
    "import findspark\n",
    "findspark.init()"
   ]
  },
  {
   "cell_type": "code",
   "execution_count": 18,
   "id": "ff4b010c",
   "metadata": {},
   "outputs": [],
   "source": [
    "# Initialize Spark session\n",
    "from pyspark.sql import SparkSession\n",
    "spark = SparkSession.builder.appName(\"MovieDataCleaning\").getOrCreate()\n"
   ]
  },
  {
   "cell_type": "code",
   "execution_count": null,
   "id": "0d9c4102",
   "metadata": {},
   "outputs": [],
   "source": [
    "# Import necessary libraries for the data cleaning process\n",
    "from pyspark.sql.functions import col, expr, when, concat_ws, size, to_date, round\n",
    "\n",
    "# Function to clean movie data\n",
    "def clean_movie_data(filepath):\n",
    "    # Read the Parquet file\n",
    "    df = spark.read.parquet(filepath)\n",
    "    # Drop irrelevant columns\n",
    "    df = df.drop(*['adult', 'imdb_id', 'original_title', 'video', 'homepage'])\n",
    "    # Extract collection name\n",
    "    df = df.withColumn(\n",
    "        \"collection_name\",\n",
    "        when(col(\"belongs_to_collection\").isNotNull(), col(\"belongs_to_collection.name\")).otherwise(\"\")\n",
    "    )\n",
    "\n",
    "    # Flatten array of genres into pipe-separated string\n",
    "    df = df.withColumn(\n",
    "        \"genres\",\n",
    "        when(col(\"genres\").isNotNull(), concat_ws(\"|\", expr(\"transform(genres, x -> x.name)\"))).otherwise(\"\")\n",
    "    )\n",
    "\n",
    "    # Flatten spoken languages\n",
    "    df = df.withColumn(\n",
    "        \"spoken_languages\",\n",
    "        when(col(\"spoken_languages\").isNotNull(), concat_ws(\"|\", expr(\"transform(spoken_languages, x -> x.name)\"))).otherwise(\"\")\n",
    "    )\n",
    "\n",
    "    # Flatten production countries\n",
    "    df = df.withColumn(\n",
    "        \"production_countries\",\n",
    "        when(col(\"production_countries\").isNotNull(), concat_ws(\"|\", expr(\"transform(production_countries, x -> x.name)\"))).otherwise(\"\")\n",
    "    )\n",
    "\n",
    "    # Flatten production companies\n",
    "    df = df.withColumn(\n",
    "        \"production_companies\",\n",
    "        when(col(\"production_companies\").isNotNull(), concat_ws(\"|\", expr(\"transform(production_companies, x -> x.name)\"))).otherwise(\"\")\n",
    "    )\n",
    "\n",
    "    # Cast names (first 5 only)\n",
    "    df = df.withColumn(\n",
    "        \"cast_names\",\n",
    "        when(col(\"cast\").isNotNull(), concat_ws(\"|\", expr(\"transform(slice(cast, 1, 5), x -> x.name)\"))).otherwise(\"\")\n",
    "    )\n",
    "\n",
    "    # Directors from crew\n",
    "    df = df.withColumn(\n",
    "        \"directors\",\n",
    "        when(col(\"crew\").isNotNull(),\n",
    "             concat_ws(\"|\", expr(\"transform(filter(crew, x -> x.job = 'Director'), x -> x.name)\"))\n",
    "        ).otherwise(\"\")\n",
    "    )\n",
    "\n",
    "    # Cast size\n",
    "    df = df.withColumn(\n",
    "        \"cast_size\",\n",
    "        when(col(\"cast\").isNotNull(), size(col(\"cast\"))).otherwise(0)\n",
    "    )\n",
    "\n",
    "    # Crew size\n",
    "    df = df.withColumn(\n",
    "        \"crew_size\",\n",
    "        when(col(\"crew\").isNotNull(), size(col(\"crew\"))).otherwise(0)\n",
    "    )\n",
    "\n",
    "    # Drop original JSON-like columns\n",
    "    df = df.drop(\"belongs_to_collection\",\"cast\", \"crew\")\n",
    "\n",
    "    \"\"\"Convert column datatypes:\n",
    "    'budget', 'id', 'popularity' → Numeric (set invalid values to NaN).\n",
    "    'release_date' → Convert to datetime.\n",
    "    etc \"\"\"\n",
    "    df = df \\\n",
    "        .withColumn(\"budget\", col(\"budget\").cast(\"double\")) \\\n",
    "        .withColumn(\"revenue\", col(\"revenue\").cast(\"double\")) \\\n",
    "        .withColumn(\"id\", col(\"id\").cast(\"long\")) \\\n",
    "        .withColumn(\"popularity\", col(\"popularity\").cast(\"double\")) \\\n",
    "        .withColumn(\"release_date\", to_date(col(\"release_date\"), \"yyyy-MM-dd\"))\n",
    "    \n",
    "    # Convert 'budget' and 'revenue' to million USD.\n",
    "    df = df\\\n",
    "        .withColumn(\"budget_musd\", round(col(\"budget\")/1000000,2))\\\n",
    "        .withColumn(\"revenue_musd\", round(col(\"revenue\")/1000000,2))\n",
    "    \n",
    "    df_clean = df.select(\n",
    "    \"id\", \"title\", \"tagline\", \"release_date\", \"genres\", \"collection_name\",\n",
    "    \"original_language\", \"budget_musd\", \"revenue_musd\", \"production_companies\",\n",
    "    \"production_countries\", \"vote_count\", \"vote_average\", \"popularity\", \"runtime\",\n",
    "    \"overview\", \"spoken_languages\", \"poster_path\", \"cast_names\", \"cast_size\", \"directors\", \"crew_size\"\n",
    "   )\n",
    "    \n",
    "    \n",
    "\n",
    "    return df_clean\n"
   ]
  },
  {
   "cell_type": "code",
   "execution_count": 52,
   "id": "ede0c84d",
   "metadata": {},
   "outputs": [
    {
     "name": "stdout",
     "output_type": "stream",
     "text": [
      "+------+--------------------+--------------------+------------+--------------------+--------------------+-----------------+-----------+------------+--------------------+--------------------+----------+------------+----------+-------+--------------------+----------------+--------------------+--------------------+---------+--------------------+---------+\n",
      "|    id|               title|             tagline|release_date|              genres|     collection_name|original_language|budget_musd|revenue_musd|production_companies|production_countries|vote_count|vote_average|popularity|runtime|            overview|spoken_languages|         poster_path|          cast_names|cast_size|           directors|crew_size|\n",
      "+------+--------------------+--------------------+------------+--------------------+--------------------+-----------------+-----------+------------+--------------------+--------------------+----------+------------+----------+-------+--------------------+----------------+--------------------+--------------------+---------+--------------------+---------+\n",
      "|299534|   Avengers: Endgame|  Avenge the fallen.|  2019-04-24|Adventure|Science...|The Avengers Coll...|               en|      356.0|     2799.44|      Marvel Studios|United States of ...|     26250|         8.2|   47.7377|    181|After the devasta...| English|日本語||/ulzhLuWrPK07P1Yk...|Robert Downey Jr....|      105|Anthony Russo|Joe...|      593|\n",
      "| 19995|              Avatar|Enter the world o...|  2009-12-15|Action|Adventure|...|   Avatar Collection|               en|      237.0|     2923.71|Dune Entertainmen...|United States of ...|     32162|       7.588|   26.5692|    162|In the 22nd centu...| English|Español|/kyeqWdyUXW608qlY...|Sam Worthington|Z...|       65|       James Cameron|      986|\n",
      "|140607|Star Wars: The Fo...|Every generation ...|  2015-12-15|Adventure|Action|...|Star Wars Collection|               en|      245.0|     2068.22|Lucasfilm Ltd.|Ba...|United States of ...|     19695|       7.262|    14.826|    136|Thirty years afte...|         English|/wqnLdwVXoBjKibFR...|Harrison Ford|Mar...|      182|         J.J. Abrams|      257|\n",
      "|299536|Avengers: Infinit...|Destiny arrives a...|  2018-04-25|Adventure|Action|...|The Avengers Coll...|               en|      300.0|     2052.42|      Marvel Studios|United States of ...|     30437|       8.235|   87.9166|    149|As the Avengers a...|        English||/7WsyChQLEftFiDOV...|Robert Downey Jr....|       69|Joe Russo|Anthony...|      724|\n",
      "|181808|Star Wars: The La...|Darkness rises......|  2017-12-13|Adventure|Action|...|Star Wars Collection|               en|      200.0|      1332.7|      Lucasfilm Ltd.|United States of ...|     15556|       6.778|   45.6031|    152|Rey develops her ...|         English|/kOVEVeg59E0wsnXm...|Mark Hamill|Carri...|      110|        Rian Johnson|      213|\n",
      "+------+--------------------+--------------------+------------+--------------------+--------------------+-----------------+-----------+------------+--------------------+--------------------+----------+------------+----------+-------+--------------------+----------------+--------------------+--------------------+---------+--------------------+---------+\n",
      "only showing top 5 rows\n",
      "\n"
     ]
    }
   ],
   "source": [
    "df = clean_movie_data(\"../data/extracted_movies_df.parquet\")\n",
    "df.show(5)"
   ]
  },
  {
   "cell_type": "code",
   "execution_count": 53,
   "id": "f2146436",
   "metadata": {},
   "outputs": [],
   "source": [
    "# Save the cleaned DataFrame to a Parquet file\n",
    "df.write.mode(\"overwrite\").parquet(\"../data/cleaned_movies_df.parquet\")"
   ]
  },
  {
   "cell_type": "code",
   "execution_count": null,
   "id": "fe9f41d3",
   "metadata": {},
   "outputs": [],
   "source": []
  }
 ],
 "metadata": {
  "kernelspec": {
   "display_name": "base",
   "language": "python",
   "name": "python3"
  },
  "language_info": {
   "codemirror_mode": {
    "name": "ipython",
    "version": 3
   },
   "file_extension": ".py",
   "mimetype": "text/x-python",
   "name": "python",
   "nbconvert_exporter": "python",
   "pygments_lexer": "ipython3",
   "version": "3.11.5"
  }
 },
 "nbformat": 4,
 "nbformat_minor": 5
}
