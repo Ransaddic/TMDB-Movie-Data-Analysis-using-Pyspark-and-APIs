{
 "cells": [
  {
   "cell_type": "markdown",
   "id": "8773e5bc",
   "metadata": {},
   "source": [
    "# TMDB MOVIES EXTRACTION "
   ]
  },
  {
   "cell_type": "code",
   "execution_count": null,
   "id": "4396574e",
   "metadata": {},
   "outputs": [],
   "source": [
    "# locating the Spark installation\n",
    "import findspark\n",
    "findspark.init()"
   ]
  },
  {
   "cell_type": "code",
   "execution_count": 3,
   "id": "8c2c53f6",
   "metadata": {},
   "outputs": [],
   "source": [
    "# Import the libraries for the extraction\n",
    "import os\n",
    "import requests\n",
    "import time\n",
    "from pyspark.sql import SparkSession\n",
    "from pyspark.sql.types import StructType, StructField, StringType, IntegerType, DoubleType\n"
   ]
  },
  {
   "cell_type": "code",
   "execution_count": 4,
   "id": "e3b9038e",
   "metadata": {},
   "outputs": [],
   "source": [
    "# Initialize Spark session\n",
    "spark = SparkSession.builder.appName(\"TMDbMovieFetcher\").getOrCreate()"
   ]
  },
  {
   "cell_type": "code",
   "execution_count": 5,
   "id": "4899787d",
   "metadata": {},
   "outputs": [],
   "source": [
    "# Function to extract movie data from TMDb API\n",
    "def extract_movies():\n",
    "    # Start timing\n",
    "    start_time = time.time()\n",
    "\n",
    "\n",
    "    # TMDb API Setup\n",
    "    API_KEY = \"c77dbb6c6c1f73c1976abf0cadb639f1\"\n",
    "    BASE_URL = \"https://api.themoviedb.org/3/movie/{}?api_key={}\"\n",
    "    CREDITS_URL = \"https://api.themoviedb.org/3/movie/{}/credits?api_key={}\"\n",
    "\n",
    "    # Movie IDs\n",
    "    movie_ids = [\n",
    "        0, 299534, 19995, 140607, 299536, 597, 135397, 420818, 24428, 168259,\n",
    "        99861, 284054, 12445, 181808, 330457, 351286, 109445, 321612, 260513\n",
    "    ]\n",
    "\n",
    "    # Storage for rows\n",
    "    movie_rows = []\n",
    "\n",
    "    # Fetch loop\n",
    "    for mid in movie_ids:\n",
    "        try:\n",
    "            print(f\"Fetching data for movie ID: {mid}\")\n",
    "            movie_response = requests.get(BASE_URL.format(mid, API_KEY))\n",
    "            credits_response = requests.get(CREDITS_URL.format(mid, API_KEY))\n",
    "\n",
    "            if movie_response.status_code != 200 or credits_response.status_code != 200:\n",
    "                print(f\"Failed to fetch movie or credits for ID {mid}\")\n",
    "                continue\n",
    "\n",
    "            movie = movie_response.json()\n",
    "            credits = credits_response.json()\n",
    "\n",
    "            movie_rows.append((\n",
    "                movie.get(\"id\"),\n",
    "                movie.get(\"title\"),\n",
    "                movie.get(\"original_language\"),\n",
    "                movie.get(\"release_date\"),\n",
    "                movie.get(\"runtime\"),\n",
    "                movie.get(\"popularity\"),\n",
    "                movie.get(\"vote_average\"),\n",
    "                movie.get(\"vote_count\"),\n",
    "                movie.get(\"overview\"),\n",
    "                str(movie.get(\"genres\")),\n",
    "                str(movie.get(\"production_companies\")),\n",
    "                str(credits.get(\"cast\")),\n",
    "                str(credits.get(\"crew\"))\n",
    "            ))\n",
    "\n",
    "        except Exception as e:\n",
    "            print(f\"Error processing movie ID {mid}: {e}\")\n",
    "\n",
    "    # Define schema\n",
    "    schema = StructType([\n",
    "        StructField(\"id\", IntegerType(), True),\n",
    "        StructField(\"title\", StringType(), True),\n",
    "        StructField(\"original_language\", StringType(), True),\n",
    "        StructField(\"release_date\", StringType(), True),\n",
    "        StructField(\"runtime\", IntegerType(), True),\n",
    "        StructField(\"popularity\", DoubleType(), True),\n",
    "        StructField(\"vote_average\", DoubleType(), True),\n",
    "        StructField(\"vote_count\", IntegerType(), True),\n",
    "        StructField(\"overview\", StringType(), True),\n",
    "        StructField(\"genres\", StringType(), True),\n",
    "        StructField(\"production_companies\", StringType(), True),\n",
    "        StructField(\"cast\", StringType(), True),\n",
    "        StructField(\"crew\", StringType(), True)\n",
    "    ])\n",
    "\n",
    "    # Create PySpark DataFrame\n",
    "    movies_df = spark.createDataFrame(movie_rows, schema=schema)\n",
    "    # Timing\n",
    "    end_time = time.time()\n",
    "    print(f\"Script completed in {round(end_time - start_time, 2)} seconds\")\n",
    "    \n",
    "    return movies_df\n"
   ]
  },
  {
   "cell_type": "code",
   "execution_count": 6,
   "id": "896399e5",
   "metadata": {},
   "outputs": [
    {
     "name": "stdout",
     "output_type": "stream",
     "text": [
      "Fetching data for movie ID: 0\n",
      "Failed to fetch movie or credits for ID 0\n",
      "Fetching data for movie ID: 299534\n",
      "Fetching data for movie ID: 19995\n",
      "Fetching data for movie ID: 140607\n",
      "Fetching data for movie ID: 299536\n",
      "Fetching data for movie ID: 597\n",
      "Fetching data for movie ID: 135397\n",
      "Fetching data for movie ID: 420818\n",
      "Fetching data for movie ID: 24428\n",
      "Fetching data for movie ID: 168259\n",
      "Fetching data for movie ID: 99861\n",
      "Fetching data for movie ID: 284054\n",
      "Fetching data for movie ID: 12445\n",
      "Fetching data for movie ID: 181808\n",
      "Fetching data for movie ID: 330457\n",
      "Fetching data for movie ID: 351286\n",
      "Fetching data for movie ID: 109445\n",
      "Fetching data for movie ID: 321612\n",
      "Fetching data for movie ID: 260513\n",
      "Script completed in 99.04 seconds\n"
     ]
    }
   ],
   "source": [
    "# Fetch movies\n",
    "movies_df = extract_movies()\n",
    "\n"
   ]
  },
  {
   "cell_type": "code",
   "execution_count": 7,
   "id": "6d96f103",
   "metadata": {},
   "outputs": [
    {
     "name": "stdout",
     "output_type": "stream",
     "text": [
      "+------+--------------------+-----------------+------------+-------+----------+------------+----------+--------------------+--------------------+--------------------+--------------------+--------------------+\n",
      "|    id|               title|original_language|release_date|runtime|popularity|vote_average|vote_count|            overview|              genres|production_companies|                cast|                crew|\n",
      "+------+--------------------+-----------------+------------+-------+----------+------------+----------+--------------------+--------------------+--------------------+--------------------+--------------------+\n",
      "|299534|   Avengers: Endgame|               en|  2019-04-24|    181|   53.8808|       8.237|     26250|After the devasta...|[{'id': 12, 'name...|[{'id': 420, 'log...|[{'adult': False,...|[{'adult': False,...|\n",
      "| 19995|              Avatar|               en|  2009-12-15|    162|   29.1285|       7.588|     32162|In the 22nd centu...|[{'id': 28, 'name...|[{'id': 444, 'log...|[{'adult': False,...|[{'adult': False,...|\n",
      "|140607|Star Wars: The Fo...|               en|  2015-12-15|    136|   15.2615|       7.262|     19694|Thirty years afte...|[{'id': 12, 'name...|[{'id': 1, 'logo_...|[{'adult': False,...|[{'adult': False,...|\n",
      "|299536|Avengers: Infinit...|               en|  2018-04-25|    149|   97.1289|       8.235|     30435|As the Avengers a...|[{'id': 12, 'name...|[{'id': 420, 'log...|[{'adult': False,...|[{'adult': False,...|\n",
      "|   597|             Titanic|               en|  1997-11-18|    194|   46.9587|       7.906|     25917|101-year-old Rose...|[{'id': 18, 'name...|[{'id': 4, 'logo_...|[{'adult': False,...|[{'adult': False,...|\n",
      "+------+--------------------+-----------------+------------+-------+----------+------------+----------+--------------------+--------------------+--------------------+--------------------+--------------------+\n",
      "only showing top 5 rows\n",
      "\n"
     ]
    }
   ],
   "source": [
    "# Show the DataFrame\n",
    "movies_df.show(5,truncate=True)"
   ]
  },
  {
   "cell_type": "code",
   "execution_count": null,
   "id": "29a88fe2",
   "metadata": {},
   "outputs": [],
   "source": [
    "# Save the DataFrame to Parquet format\n",
    "movies_df.write.mode(\"overwrite\").parquet(\"../data/extracted_movies_df.parquet\")"
   ]
  },
  {
   "cell_type": "code",
   "execution_count": null,
   "id": "29cf3bc2",
   "metadata": {},
   "outputs": [],
   "source": []
  }
 ],
 "metadata": {
  "kernelspec": {
   "display_name": "base",
   "language": "python",
   "name": "python3"
  },
  "language_info": {
   "codemirror_mode": {
    "name": "ipython",
    "version": 3
   },
   "file_extension": ".py",
   "mimetype": "text/x-python",
   "name": "python",
   "nbconvert_exporter": "python",
   "pygments_lexer": "ipython3",
   "version": "3.11.5"
  }
 },
 "nbformat": 4,
 "nbformat_minor": 5
}
